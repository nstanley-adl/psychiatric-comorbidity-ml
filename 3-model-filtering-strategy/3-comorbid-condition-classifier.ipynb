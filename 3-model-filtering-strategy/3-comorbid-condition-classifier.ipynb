{
 "cells": [
  {
   "cell_type": "markdown",
   "metadata": {},
   "source": [
    "# Comorbid Condition Classifier"
   ]
  },
  {
   "cell_type": "markdown",
   "metadata": {},
   "source": [
    "### Prepare Data"
   ]
  },
  {
   "cell_type": "code",
   "execution_count": 1,
   "metadata": {},
   "outputs": [],
   "source": [
    "import sys\n",
    "sys.path.append(\"..\")\n",
    "import numpy as np\n",
    "import sklearn as sk\n",
    "from sklearn.metrics import classification_report\n",
    "import torch\n",
    "from torch import nn, cuda\n",
    "import matplotlib.pyplot as plt\n",
    "import prepare_data\n",
    "from prepare_data import DataPreparationContext\n",
    "from prepare_data import ClassEmbedders\n",
    "import models\n",
    "from models import GenericMutliClassifier"
   ]
  },
  {
   "cell_type": "code",
   "execution_count": 2,
   "metadata": {},
   "outputs": [
    {
     "name": "stderr",
     "output_type": "stream",
     "text": [
      "100%|██████████| 21300/21300 [00:00<00:00, 98666.84it/s]\n"
     ]
    },
    {
     "name": "stdout",
     "output_type": "stream",
     "text": [
      "Input File: ../../symptom_sum_top16/train.pkl\n",
      " [anxiety depression] has 310\n",
      " [depression ptsd] has 310\n",
      " [anxiety depression ptsd] has 310\n",
      " [anxiety ptsd] has 310\n",
      "\n"
     ]
    },
    {
     "name": "stderr",
     "output_type": "stream",
     "text": [
      "100%|██████████| 2662/2662 [00:00<00:00, 106543.61it/s]"
     ]
    },
    {
     "name": "stdout",
     "output_type": "stream",
     "text": [
      "Input File: ../../symptom_sum_top16/val.pkl\n",
      " [anxiety depression] has 44\n",
      " [depression ptsd] has 2\n",
      " [anxiety depression ptsd] has 7\n",
      " [anxiety ptsd] has 3\n",
      "\n"
     ]
    },
    {
     "name": "stderr",
     "output_type": "stream",
     "text": [
      "\n"
     ]
    }
   ],
   "source": [
    "def embedder(diseases, classes, classes_lookup):\n",
    "    if len(diseases) < 2:\n",
    "        return None\n",
    "    else:\n",
    "        return ClassEmbedders.match_exact(diseases, classes, classes_lookup)\n",
    "    \n",
    "data_context = DataPreparationContext(combine_riskiest=16, verbose=True, classes=prepare_data.CLASSES_COMORBID, class_embedder=embedder)\n",
    "\n",
    "training_data = data_context.prepare_from_file(\"../../symptom_sum_top16/train.pkl\", oversample=True)\n",
    "X_train_np = training_data['X']\n",
    "y_train_np = training_data['y']\n",
    "\n",
    "validation_data = data_context.prepare_from_file(\"../../symptom_sum_top16/val.pkl\", oversample=False)\n",
    "X_val_np = validation_data['X']\n",
    "y_val_np = validation_data['y']\n",
    "\n"
   ]
  },
  {
   "cell_type": "markdown",
   "metadata": {},
   "source": [
    "## Deep Learning"
   ]
  },
  {
   "cell_type": "markdown",
   "metadata": {},
   "source": [
    "### Convert to Tensors"
   ]
  },
  {
   "cell_type": "code",
   "execution_count": 3,
   "metadata": {},
   "outputs": [],
   "source": [
    "X_train = models.convert_to_tensors(X_train_np).type(torch.float32).to(models.device)\n",
    "y_train = models.convert_to_tensors(y_train_np).type(torch.LongTensor).to(models.device)\n",
    "X_val = models.convert_to_tensors(X_val_np).type(torch.float32).to(models.device)\n",
    "y_val = models.convert_to_tensors(y_val_np).type(torch.LongTensor).to(models.device)"
   ]
  },
  {
   "cell_type": "markdown",
   "metadata": {},
   "source": [
    "### Define Model"
   ]
  },
  {
   "cell_type": "markdown",
   "metadata": {},
   "source": [
    "The models used are based on tutorial:\n",
    "```\n",
    "Bourke , D 2022, PyTorch for Deep Learning & Machine Learning – Full Course, in freeCodeCamp.org (ed.), YouTube, viewed 6 May 2024, <https://www.youtube.com/watch?v=V_xro1bcAuA>.\n",
    "```"
   ]
  },
  {
   "cell_type": "markdown",
   "metadata": {},
   "source": [
    "### Train Model"
   ]
  },
  {
   "cell_type": "code",
   "execution_count": 8,
   "metadata": {},
   "outputs": [
    {
     "name": "stdout",
     "output_type": "stream",
     "text": [
      "Epoch: 500 | Loss: 0.06827, Acc: 99.19%, Val Acc: 71.43%\n",
      "                         precision    recall  f1-score   support\n",
      "\n",
      "     anxiety depression       0.78      0.89      0.83        44\n",
      "        depression ptsd       0.00      0.00      0.00         2\n",
      "           anxiety ptsd       0.00      0.00      0.00         3\n",
      "anxiety depression ptsd       0.00      0.00      0.00         7\n",
      "\n",
      "               accuracy                           0.70        56\n",
      "              macro avg       0.20      0.22      0.21        56\n",
      "           weighted avg       0.61      0.70      0.65        56\n",
      "\n"
     ]
    },
    {
     "name": "stderr",
     "output_type": "stream",
     "text": [
      "c:\\Users\\nstan\\AppData\\Local\\Programs\\Python\\Python312\\Lib\\site-packages\\sklearn\\metrics\\_classification.py:1509: UndefinedMetricWarning: Precision is ill-defined and being set to 0.0 in labels with no predicted samples. Use `zero_division` parameter to control this behavior.\n",
      "  _warn_prf(average, modifier, f\"{metric.capitalize()} is\", len(result))\n",
      "c:\\Users\\nstan\\AppData\\Local\\Programs\\Python\\Python312\\Lib\\site-packages\\sklearn\\metrics\\_classification.py:1509: UndefinedMetricWarning: Precision is ill-defined and being set to 0.0 in labels with no predicted samples. Use `zero_division` parameter to control this behavior.\n",
      "  _warn_prf(average, modifier, f\"{metric.capitalize()} is\", len(result))\n",
      "c:\\Users\\nstan\\AppData\\Local\\Programs\\Python\\Python312\\Lib\\site-packages\\sklearn\\metrics\\_classification.py:1509: UndefinedMetricWarning: Precision is ill-defined and being set to 0.0 in labels with no predicted samples. Use `zero_division` parameter to control this behavior.\n",
      "  _warn_prf(average, modifier, f\"{metric.capitalize()} is\", len(result))\n"
     ]
    },
    {
     "data": {
      "image/png": "[encoded data removed]",
      "text/plain": [
       "<Figure size 1500x800 with 1 Axes>"
      ]
     },
     "metadata": {},
     "output_type": "display_data"
    }
   ],
   "source": [
    "models.begin_plot()\n",
    "\n",
    "hidden_layers = 250\n",
    "epochs = 600\n",
    "learning_rate = 0.0001\n",
    "labels = [(' '.join(x) if len(' '.join(x)) != 0 else 'healthy') for x in prepare_data.CLASSES_COMORBID.values()]\n",
    "\n",
    "model = models.GenericMutliClassifier(input_features=X_train.shape[1], output_features=8, hidden_units=hidden_layers, report_labels=labels).to(models.device)\n",
    "report = model.train_model(\n",
    "    X_train=X_train,\n",
    "    y_train=y_train,\n",
    "    X_val=X_val,\n",
    "    y_val=y_val,\n",
    "    epochs=epochs,\n",
    "    learning_rate=learning_rate,\n",
    "    should_print=True,\n",
    "    should_plot=True,\n",
    "    plot_label=\"Validation Accuracy\",\n",
    "    analysis_interval=1\n",
    ")\n",
    "print(report)\n",
    "models.finish_plot()\n"
   ]
  },
  {
   "cell_type": "markdown",
   "metadata": {},
   "source": [
    "### Save Model"
   ]
  },
  {
   "cell_type": "code",
   "execution_count": 9,
   "metadata": {},
   "outputs": [],
   "source": [
    "model.save_model(\"3-comorbid-codition-multiclassifier.pth\")"
   ]
  }
 ],
 "metadata": {
  "kernelspec": {
   "display_name": "Python 3",
   "language": "python",
   "name": "python3"
  },
  "language_info": {
   "codemirror_mode": {
    "name": "ipython",
    "version": 3
   },
   "file_extension": ".py",
   "mimetype": "text/x-python",
   "name": "python",
   "nbconvert_exporter": "python",
   "pygments_lexer": "ipython3",
   "version": "3.12.2"
  }
 },
 "nbformat": 4,
 "nbformat_minor": 2
}
