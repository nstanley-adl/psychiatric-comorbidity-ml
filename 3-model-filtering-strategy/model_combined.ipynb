{
 "cells": [
  {
   "cell_type": "markdown",
   "metadata": {},
   "source": [
    "# Ensemble Model \n",
    "Classification in 3 parts"
   ]
  },
  {
   "cell_type": "markdown",
   "metadata": {},
   "source": [
    "## Prepare Input Data"
   ]
  },
  {
   "cell_type": "code",
   "execution_count": 1,
   "metadata": {},
   "outputs": [],
   "source": [
    "import sys\n",
    "sys.path.append(\"..\")\n",
    "import numpy as np\n",
    "import sklearn as sk\n",
    "from sklearn.metrics import classification_report\n",
    "import torch\n",
    "from torch import nn, cuda\n",
    "import matplotlib.pyplot as plt\n",
    "import prepare_data\n",
    "from prepare_data import DataPreparationContext\n",
    "from prepare_data import ClassEmbedders\n",
    "import models\n",
    "from models import GenericMutliClassifier"
   ]
  },
  {
   "cell_type": "code",
   "execution_count": 2,
   "metadata": {},
   "outputs": [
    {
     "name": "stderr",
     "output_type": "stream",
     "text": [
      "100%|██████████| 2643/2643 [00:01<00:00, 2079.02it/s]"
     ]
    },
    {
     "name": "stdout",
     "output_type": "stream",
     "text": [
      "Input File: ../../symptom_sum_top16/test.pkl\n",
      " [depression] has 62\n",
      " [anxiety depression] has 44\n",
      " [anxiety] has 21\n",
      " [ptsd] has 7\n",
      " [anxiety ptsd depression] has 3\n",
      " [anxiety ptsd] has 7\n",
      " [ptsd depression] has 2\n",
      " [] has 2054\n",
      "\n"
     ]
    },
    {
     "name": "stderr",
     "output_type": "stream",
     "text": [
      "\n"
     ]
    }
   ],
   "source": [
    "data_context = DataPreparationContext(combine_riskiest=16, verbose=True)\n",
    "\n",
    "test_data = data_context.prepare_from_file(\"../../symptom_sum_top16/test.pkl\", oversample=False)\n",
    "X_test_np = test_data['X']\n",
    "y_test_np = test_data['y']"
   ]
  },
  {
   "cell_type": "code",
   "execution_count": 3,
   "metadata": {},
   "outputs": [],
   "source": [
    "X_val = models.convert_to_tensors(X_test_np).type(torch.float32).to(models.device)\n",
    "y_val = models.convert_to_tensors(y_test_np).type(torch.LongTensor).to(models.device)"
   ]
  },
  {
   "cell_type": "markdown",
   "metadata": {},
   "source": [
    "## 1. Healthy or Sick Classifier"
   ]
  },
  {
   "cell_type": "code",
   "execution_count": 4,
   "metadata": {},
   "outputs": [],
   "source": [
    "hidden_layers = 250\n",
    "model = models.GenericMutliClassifier(input_features=X_val.shape[1], output_features=8, hidden_units=hidden_layers).to(models.device)\n",
    "model.load_model(\"1-healthy-or-not-multiclassifier.pth\")\n",
    "pred_1 = model.evaluate_model(X_val).cpu()"
   ]
  },
  {
   "cell_type": "markdown",
   "metadata": {},
   "source": [
    "## 2. Comorbid or Not Classifier"
   ]
  },
  {
   "cell_type": "code",
   "execution_count": 5,
   "metadata": {},
   "outputs": [],
   "source": [
    "hidden_layers = 250\n",
    "model = models.GenericMutliClassifier(input_features=X_val.shape[1], output_features=8, hidden_units=hidden_layers).to(models.device)\n",
    "model.load_model(\"2-comorbid-or-not-multiclassifier.pth\")\n",
    "pred_2 = model.evaluate_model(X_val).cpu()"
   ]
  },
  {
   "cell_type": "markdown",
   "metadata": {},
   "source": [
    "## 3. Classifying the Comorbid Conditon"
   ]
  },
  {
   "cell_type": "code",
   "execution_count": 6,
   "metadata": {},
   "outputs": [],
   "source": [
    "hidden_layers = 250\n",
    "model = models.GenericMutliClassifier(input_features=X_val.shape[1], output_features=8, hidden_units=hidden_layers).to(models.device)\n",
    "model.load_model(\"3-comorbid-codition-multiclassifier.pth\")\n",
    "pred_3 = model.evaluate_model(X_val).cpu()"
   ]
  },
  {
   "cell_type": "markdown",
   "metadata": {},
   "source": [
    "## Evaluate Results"
   ]
  },
  {
   "cell_type": "code",
   "execution_count": 15,
   "metadata": {},
   "outputs": [
    {
     "name": "stdout",
     "output_type": "stream",
     "text": [
      "                         precision    recall  f1-score   support\n",
      "\n",
      "     anxiety depression       0.17      0.93      0.29        15\n",
      "        ptsd depression       0.00      0.00      0.00         0\n",
      "           anxiety ptsd       0.00      0.00      0.00         3\n",
      "anxiety ptsd depression       0.00      0.00      0.00         2\n",
      "\n",
      "              micro avg       0.16      0.70      0.25        20\n",
      "              macro avg       0.04      0.23      0.07        20\n",
      "           weighted avg       0.13      0.70      0.22        20\n",
      "\n"
     ]
    },
    {
     "name": "stderr",
     "output_type": "stream",
     "text": [
      "c:\\Users\\nstan\\AppData\\Local\\Programs\\Python\\Python312\\Lib\\site-packages\\sklearn\\metrics\\_classification.py:1509: UndefinedMetricWarning: Recall is ill-defined and being set to 0.0 in labels with no true samples. Use `zero_division` parameter to control this behavior.\n",
      "  _warn_prf(average, modifier, f\"{metric.capitalize()} is\", len(result))\n",
      "c:\\Users\\nstan\\AppData\\Local\\Programs\\Python\\Python312\\Lib\\site-packages\\sklearn\\metrics\\_classification.py:1509: UndefinedMetricWarning: Recall is ill-defined and being set to 0.0 in labels with no true samples. Use `zero_division` parameter to control this behavior.\n",
      "  _warn_prf(average, modifier, f\"{metric.capitalize()} is\", len(result))\n",
      "c:\\Users\\nstan\\AppData\\Local\\Programs\\Python\\Python312\\Lib\\site-packages\\sklearn\\metrics\\_classification.py:1509: UndefinedMetricWarning: Recall is ill-defined and being set to 0.0 in labels with no true samples. Use `zero_division` parameter to control this behavior.\n",
      "  _warn_prf(average, modifier, f\"{metric.capitalize()} is\", len(result))\n"
     ]
    }
   ],
   "source": [
    "val_pred = []\n",
    "val_true = []\n",
    "y_val_cpu = y_val.cpu()\n",
    "labels = [(' '.join(x) if len(' '.join(x)) != 0 else 'healthy') for x in prepare_data.CLASSES_COMORBID.values()]\n",
    "\n",
    "for i in range(len(X_test_np)):\n",
    "    isHealthy = True if pred_1[i] == 0 else False\n",
    "    isComorbid = True if pred_2[i] == 2 else False\n",
    "    comorbidDisease = pred_3[i].numpy()\n",
    "    if (not isHealthy) and isComorbid and comorbidDisease >= 4:\n",
    "        val_pred.append(comorbidDisease)\n",
    "        val_true.append(y_val_cpu[i].numpy())\n",
    "\n",
    "print(classification_report(y_true=val_true, y_pred=val_pred, target_names=labels, labels=[4,5,6,7]))"
   ]
  }
 ],
 "metadata": {
  "kernelspec": {
   "display_name": "Python 3",
   "language": "python",
   "name": "python3"
  },
  "language_info": {
   "codemirror_mode": {
    "name": "ipython",
    "version": 3
   },
   "file_extension": ".py",
   "mimetype": "text/x-python",
   "name": "python",
   "nbconvert_exporter": "python",
   "pygments_lexer": "ipython3",
   "version": "3.12.2"
  }
 },
 "nbformat": 4,
 "nbformat_minor": 2
}
