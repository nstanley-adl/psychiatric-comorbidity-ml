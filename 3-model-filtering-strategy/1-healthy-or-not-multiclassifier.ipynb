{
 "cells": [
  {
   "cell_type": "markdown",
   "metadata": {},
   "source": [
    "# Healthy or Sick Classifier"
   ]
  },
  {
   "cell_type": "markdown",
   "metadata": {},
   "source": [
    "### Prepare Data"
   ]
  },
  {
   "cell_type": "code",
   "execution_count": 2,
   "metadata": {},
   "outputs": [],
   "source": [
    "import sys\n",
    "sys.path.append(\"..\")\n",
    "import numpy as np\n",
    "import sklearn as sk\n",
    "from sklearn.metrics import classification_report\n",
    "import torch\n",
    "from torch import nn, cuda\n",
    "import matplotlib.pyplot as plt\n",
    "import prepare_data\n",
    "from prepare_data import DataPreparationContext\n",
    "from prepare_data import ClassEmbedders\n",
    "import models\n",
    "from models import GenericMutliClassifier"
   ]
  },
  {
   "cell_type": "code",
   "execution_count": 3,
   "metadata": {},
   "outputs": [
    {
     "name": "stderr",
     "output_type": "stream",
     "text": [
      " 94%|█████████▍| 20010/21300 [00:10<00:00, 1479.78it/s]"
     ]
    },
    {
     "name": "stdout",
     "output_type": "stream",
     "text": [
      "Not enough data! Skipping row. got: 7 rows, expected: 16\n"
     ]
    },
    {
     "name": "stderr",
     "output_type": "stream",
     "text": [
      " 95%|█████████▌| 20320/21300 [00:10<00:00, 1368.98it/s]"
     ]
    },
    {
     "name": "stdout",
     "output_type": "stream",
     "text": [
      "Not enough data! Skipping row. got: 11 rows, expected: 16\n",
      "Not enough data! Skipping row. got: 9 rows, expected: 16\n",
      "Not enough data! Skipping row. got: 8 rows, expected: 16\n"
     ]
    },
    {
     "name": "stderr",
     "output_type": "stream",
     "text": [
      " 98%|█████████▊| 20805/21300 [00:11<00:00, 1527.38it/s]"
     ]
    },
    {
     "name": "stdout",
     "output_type": "stream",
     "text": [
      "Not enough data! Skipping row. got: 10 rows, expected: 16\n"
     ]
    },
    {
     "name": "stderr",
     "output_type": "stream",
     "text": [
      " 99%|█████████▉| 21128/21300 [00:11<00:00, 1498.85it/s]"
     ]
    },
    {
     "name": "stdout",
     "output_type": "stream",
     "text": [
      "Not enough data! Skipping row. got: 13 rows, expected: 16\n"
     ]
    },
    {
     "name": "stderr",
     "output_type": "stream",
     "text": [
      "100%|██████████| 21300/21300 [00:11<00:00, 1858.99it/s]\n"
     ]
    },
    {
     "name": "stdout",
     "output_type": "stream",
     "text": [
      "Input File: ../../symptom_sum_top16/train.pkl\n",
      " [anxiety depression] has 16818\n",
      " [ptsd] has 16818\n",
      " [depression] has 16818\n",
      " [anxiety] has 16818\n",
      " [ptsd depression] has 16818\n",
      " [anxiety ptsd depression] has 16818\n",
      " [anxiety ptsd] has 16818\n",
      " [] has 16818\n",
      "\n"
     ]
    },
    {
     "name": "stderr",
     "output_type": "stream",
     "text": [
      "100%|██████████| 2662/2662 [00:01<00:00, 2103.86it/s]"
     ]
    },
    {
     "name": "stdout",
     "output_type": "stream",
     "text": [
      "Input File: ../../symptom_sum_top16/val.pkl\n",
      " [depression] has 63\n",
      " [anxiety depression] has 44\n",
      " [ptsd depression] has 2\n",
      " [anxiety] has 26\n",
      " [anxiety ptsd depression] has 7\n",
      " [ptsd] has 4\n",
      " [anxiety ptsd] has 3\n",
      " [] has 2103\n",
      "\n"
     ]
    },
    {
     "name": "stderr",
     "output_type": "stream",
     "text": [
      "\n"
     ]
    }
   ],
   "source": [
    "data_context = DataPreparationContext(combine_riskiest=16, verbose=True)\n",
    "\n",
    "training_data = data_context.prepare_from_file(\"../../symptom_sum_top16/train.pkl\", oversample=True)\n",
    "X_train_np = training_data['X']\n",
    "y_train_np = training_data['y']\n",
    "\n",
    "validation_data = data_context.prepare_from_file(\"../../symptom_sum_top16/val.pkl\", oversample=False)\n",
    "X_val_np = validation_data['X']\n",
    "y_val_np = validation_data['y']"
   ]
  },
  {
   "cell_type": "markdown",
   "metadata": {},
   "source": [
    "## Deep Learning"
   ]
  },
  {
   "cell_type": "markdown",
   "metadata": {},
   "source": [
    "### Convert to Tensors"
   ]
  },
  {
   "cell_type": "code",
   "execution_count": 4,
   "metadata": {},
   "outputs": [],
   "source": [
    "X_train = models.convert_to_tensors(X_train_np).type(torch.float32).to(models.device)\n",
    "y_train = models.convert_to_tensors(y_train_np).type(torch.LongTensor).to(models.device)\n",
    "X_val = models.convert_to_tensors(X_val_np).type(torch.float32).to(models.device)\n",
    "y_val = models.convert_to_tensors(y_val_np).type(torch.LongTensor).to(models.device)"
   ]
  },
  {
   "cell_type": "markdown",
   "metadata": {},
   "source": [
    "### Define Model"
   ]
  },
  {
   "cell_type": "markdown",
   "metadata": {},
   "source": [
    "The models used are based on tutorial:\n",
    "```\n",
    "Bourke , D 2022, PyTorch for Deep Learning & Machine Learning – Full Course, in freeCodeCamp.org (ed.), YouTube, viewed 6 May 2024, <https://www.youtube.com/watch?v=V_xro1bcAuA>.\n",
    "```"
   ]
  },
  {
   "cell_type": "markdown",
   "metadata": {},
   "source": [
    "### Train Model"
   ]
  },
  {
   "cell_type": "code",
   "execution_count": 5,
   "metadata": {},
   "outputs": [
    {
     "name": "stdout",
     "output_type": "stream",
     "text": [
      "Epoch: 500 | Loss: 0.39746, Acc: 87.23%, Val Acc: 77.66%\n",
      "Epoch: 1000 | Loss: 0.16917, Acc: 95.20%, Val Acc: 81.53%\n",
      "Epoch: 1500 | Loss: 0.08419, Acc: 97.78%, Val Acc: 87.17%\n",
      "Epoch: 2000 | Loss: 0.04594, Acc: 98.83%, Val Acc: 89.70%\n",
      "Epoch: 2500 | Loss: 0.02894, Acc: 99.23%, Val Acc: 90.36%\n",
      "Epoch: 3000 | Loss: 0.01992, Acc: 99.57%, Val Acc: 91.03%\n",
      "                         precision    recall  f1-score   support\n",
      "\n",
      "                healthy       0.96      0.96      0.96      2103\n",
      "                   ptsd       0.00      0.00      0.00         4\n",
      "             depression       0.21      0.19      0.20        63\n",
      "                anxiety       0.19      0.19      0.19        26\n",
      "     anxiety depression       0.19      0.11      0.14        44\n",
      "        ptsd depression       0.00      0.00      0.00         2\n",
      "           anxiety ptsd       0.00      0.00      0.00         3\n",
      "anxiety ptsd depression       0.00      0.00      0.00         7\n",
      "\n",
      "               accuracy                           0.91      2252\n",
      "              macro avg       0.19      0.18      0.19      2252\n",
      "           weighted avg       0.90      0.91      0.91      2252\n",
      "\n"
     ]
    },
    {
     "data": {
      "image/png": "[encoded data removed]",
      "text/plain": [
       "<Figure size 1500x800 with 1 Axes>"
      ]
     },
     "metadata": {},
     "output_type": "display_data"
    }
   ],
   "source": [
    "models.begin_plot()\n",
    "\n",
    "hidden_layers = 250\n",
    "epochs = 3000\n",
    "learning_rate = 0.0001\n",
    "labels = [(' '.join(x) if len(' '.join(x)) != 0 else 'healthy') for x in prepare_data.CLASSES_DEFAULT.values()]\n",
    "\n",
    "model = models.GenericMutliClassifier(input_features=X_train.shape[1], output_features=8, hidden_units=hidden_layers, report_labels=labels).to(models.device)\n",
    "report = model.train_model(\n",
    "    X_train=X_train,\n",
    "    y_train=y_train,\n",
    "    X_val=X_val,\n",
    "    y_val=y_val,\n",
    "    epochs=epochs,\n",
    "    learning_rate=learning_rate,\n",
    "    should_print=True,\n",
    "    should_plot=True,\n",
    "    plot_label=\"Validation Accuracy\"\n",
    ")\n",
    "print(report)\n",
    "models.finish_plot()\n"
   ]
  },
  {
   "cell_type": "markdown",
   "metadata": {},
   "source": [
    "### Save Model"
   ]
  },
  {
   "cell_type": "code",
   "execution_count": 6,
   "metadata": {},
   "outputs": [],
   "source": [
    "model.save_model(\"1-healthy-or-not-multiclassifier.pth\")"
   ]
  }
 ],
 "metadata": {
  "kernelspec": {
   "display_name": "Python 3",
   "language": "python",
   "name": "python3"
  },
  "language_info": {
   "codemirror_mode": {
    "name": "ipython",
    "version": 3
   },
   "file_extension": ".py",
   "mimetype": "text/x-python",
   "name": "python",
   "nbconvert_exporter": "python",
   "pygments_lexer": "ipython3",
   "version": "3.12.2"
  }
 },
 "nbformat": 4,
 "nbformat_minor": 2
}
