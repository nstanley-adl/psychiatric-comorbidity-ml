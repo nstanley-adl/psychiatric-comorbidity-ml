{
 "cells": [
  {
   "cell_type": "markdown",
   "metadata": {},
   "source": [
    "# Ensemble Model \n",
    "Classification by 3 experts"
   ]
  },
  {
   "cell_type": "markdown",
   "metadata": {},
   "source": [
    "## Prepare Input Data"
   ]
  },
  {
   "cell_type": "code",
   "execution_count": 2,
   "metadata": {},
   "outputs": [],
   "source": [
    "import sys\n",
    "sys.path.append(\"..\")\n",
    "import numpy as np\n",
    "import sklearn as sk\n",
    "from sklearn.metrics import classification_report\n",
    "import torch\n",
    "from torch import nn, cuda\n",
    "import matplotlib.pyplot as plt\n",
    "import prepare_data\n",
    "from prepare_data import DataPreparationContext\n",
    "from prepare_data import ClassEmbedders\n",
    "import models\n",
    "from models import GenericMutliClassifier"
   ]
  },
  {
   "cell_type": "code",
   "execution_count": 3,
   "metadata": {},
   "outputs": [
    {
     "name": "stderr",
     "output_type": "stream",
     "text": [
      "100%|██████████| 2643/2643 [00:03<00:00, 742.88it/s]"
     ]
    },
    {
     "name": "stdout",
     "output_type": "stream",
     "text": [
      "Input File: ../../symptom_sum_top16/test.pkl\n",
      " [depression] has 62\n",
      " [depression anxiety] has 44\n",
      " [anxiety] has 21\n",
      " [ptsd] has 7\n",
      " [depression anxiety ptsd] has 3\n",
      " [anxiety ptsd] has 7\n",
      " [depression ptsd] has 2\n",
      " [] has 2054\n",
      "\n"
     ]
    },
    {
     "name": "stderr",
     "output_type": "stream",
     "text": [
      "\n"
     ]
    }
   ],
   "source": [
    "data_context = DataPreparationContext(combine_riskiest=16, verbose=True)\n",
    "\n",
    "validation_data = data_context.prepare_from_file(\"../../symptom_sum_top16/test.pkl\", oversample=False)\n",
    "X_val_np = validation_data['X']\n",
    "y_val_np = validation_data['y']"
   ]
  },
  {
   "cell_type": "code",
   "execution_count": 4,
   "metadata": {},
   "outputs": [],
   "source": [
    "X_val = models.convert_to_tensors(X_val_np).type(torch.float32).to(models.device)\n",
    "y_val = models.convert_to_tensors(y_val_np).type(torch.LongTensor).to(models.device)"
   ]
  },
  {
   "cell_type": "markdown",
   "metadata": {},
   "source": [
    "## 1. Depression Expert"
   ]
  },
  {
   "cell_type": "code",
   "execution_count": 5,
   "metadata": {},
   "outputs": [],
   "source": [
    "hidden_layers = 250\n",
    "model = models.GenericMutliClassifier(input_features=X_val.shape[1], output_features=8, hidden_units=hidden_layers).to(models.device)\n",
    "model.load_model(\"depression-expert.pth\")\n",
    "has_depression = model.evaluate_model(X_val).cpu()"
   ]
  },
  {
   "cell_type": "markdown",
   "metadata": {},
   "source": [
    "## 2. Anxiety Expert"
   ]
  },
  {
   "cell_type": "code",
   "execution_count": 6,
   "metadata": {},
   "outputs": [],
   "source": [
    "hidden_layers = 250\n",
    "model = models.GenericMutliClassifier(input_features=X_val.shape[1], output_features=8, hidden_units=hidden_layers).to(models.device)\n",
    "model.load_model(\"anxiety-expert.pth\")\n",
    "has_anxiety = model.evaluate_model(X_val).cpu()"
   ]
  },
  {
   "cell_type": "markdown",
   "metadata": {},
   "source": [
    "## 3. PTSD Expert"
   ]
  },
  {
   "cell_type": "code",
   "execution_count": 7,
   "metadata": {},
   "outputs": [],
   "source": [
    "hidden_layers = 250\n",
    "model = models.GenericMutliClassifier(input_features=X_val.shape[1], output_features=8, hidden_units=hidden_layers).to(models.device)\n",
    "model.load_model(\"ptsd-expert.pth\")\n",
    "has_ptsd = model.evaluate_model(X_val).cpu()"
   ]
  },
  {
   "cell_type": "markdown",
   "metadata": {},
   "source": [
    "## Evaluate Results"
   ]
  },
  {
   "cell_type": "code",
   "execution_count": 11,
   "metadata": {},
   "outputs": [
    {
     "name": "stdout",
     "output_type": "stream",
     "text": [
      "                         precision    recall  f1-score   support\n",
      "\n",
      "     depression anxiety       0.15      0.27      0.19        44\n",
      "        depression ptsd       0.00      0.00      0.00         2\n",
      "           anxiety ptsd       0.00      0.00      0.00         7\n",
      "depression anxiety ptsd       0.20      0.33      0.25         3\n",
      "\n",
      "              micro avg       0.13      0.23      0.17        56\n",
      "              macro avg       0.09      0.15      0.11        56\n",
      "           weighted avg       0.13      0.23      0.16        56\n",
      "\n"
     ]
    }
   ],
   "source": [
    "val_pred = []\n",
    "val_true = []\n",
    "y_val_cpu = y_val.cpu()\n",
    "labels =  [' '.join(x) for x in prepare_data.CLASSES_COMORBID.values()]\n",
    "\n",
    "for i in range(len(X_val_np)):\n",
    "    diseases = []\n",
    "    if has_depression[i] == 2:\n",
    "        diseases.append(\"depression\")\n",
    "    if has_anxiety[i] == 2:\n",
    "        diseases.append(\"anxiety\")\n",
    "    if has_ptsd[i] == 2:\n",
    "        diseases.append(\"ptsd\")\n",
    "    diseases = frozenset(diseases)\n",
    "    disease_class = ClassEmbedders.match_exact(diseases, data_context.classes, data_context.classes_lookup)\n",
    "    val_pred.append(disease_class)\n",
    "    val_true.append(y_val_cpu[i].numpy())\n",
    "        \n",
    "print(classification_report(y_true=val_true, y_pred=val_pred, target_names=labels, labels=[4,5,6,7]))"
   ]
  }
 ],
 "metadata": {
  "kernelspec": {
   "display_name": "Python 3",
   "language": "python",
   "name": "python3"
  },
  "language_info": {
   "codemirror_mode": {
    "name": "ipython",
    "version": 3
   },
   "file_extension": ".py",
   "mimetype": "text/x-python",
   "name": "python",
   "nbconvert_exporter": "python",
   "pygments_lexer": "ipython3",
   "version": "3.12.2"
  }
 },
 "nbformat": 4,
 "nbformat_minor": 2
}
