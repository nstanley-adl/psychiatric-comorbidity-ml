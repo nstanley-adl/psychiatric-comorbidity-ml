{
 "cells": [
  {
   "cell_type": "markdown",
   "metadata": {},
   "source": [
    "# Depression Expert"
   ]
  },
  {
   "cell_type": "markdown",
   "metadata": {},
   "source": [
    "### Prepare Data"
   ]
  },
  {
   "cell_type": "code",
   "execution_count": 1,
   "metadata": {},
   "outputs": [],
   "source": [
    "import sys\n",
    "sys.path.append(\"..\")\n",
    "import numpy as np\n",
    "import sklearn as sk\n",
    "from sklearn.metrics import classification_report\n",
    "import torch\n",
    "from torch import nn, cuda\n",
    "import matplotlib.pyplot as plt\n",
    "import prepare_data\n",
    "from prepare_data import DataPreparationContext\n",
    "from prepare_data import ClassEmbedders\n",
    "import models\n",
    "from models import GenericMutliClassifier"
   ]
  },
  {
   "cell_type": "code",
   "execution_count": 2,
   "metadata": {},
   "outputs": [
    {
     "name": "stderr",
     "output_type": "stream",
     "text": [
      "100%|██████████| 21300/21300 [00:02<00:00, 8483.64it/s]\n"
     ]
    },
    {
     "name": "stdout",
     "output_type": "stream",
     "text": [
      "Input File: ../../symptom_sum_top16/train.pkl\n",
      " [d e p r e s s i o n] has 2482\n",
      " [n o t - d e p r e s s i o n] has 2482\n",
      "\n"
     ]
    },
    {
     "name": "stderr",
     "output_type": "stream",
     "text": [
      "100%|██████████| 2662/2662 [00:00<00:00, 8245.86it/s]"
     ]
    },
    {
     "name": "stdout",
     "output_type": "stream",
     "text": [
      "Input File: ../../symptom_sum_top16/val.pkl\n",
      " [n o t - d e p r e s s i o n] has 263\n",
      " [d e p r e s s i o n] has 296\n",
      "\n"
     ]
    },
    {
     "name": "stderr",
     "output_type": "stream",
     "text": [
      "\n"
     ]
    }
   ],
   "source": [
    "classes = {\n",
    "    1: \"not-depression\",\n",
    "    2: \"depression\"\n",
    "}\n",
    "\n",
    "def embedder(diseases, classes, classes_lookup):\n",
    "    if len(diseases) == 0:\n",
    "        return None # remove healthy people\n",
    "    if 'depression' in diseases:\n",
    "        return 2\n",
    "    else:\n",
    "        return 1\n",
    "    \n",
    "data_context = DataPreparationContext(combine_riskiest=16, verbose=True, classes=classes, class_embedder=embedder)\n",
    "\n",
    "training_data = data_context.prepare_from_file(\"../../symptom_sum_top16/train.pkl\", oversample=True)\n",
    "X_train_np = training_data['X']\n",
    "y_train_np = training_data['y']\n",
    "\n",
    "validation_data = data_context.prepare_from_file(\"../../symptom_sum_top16/val.pkl\", oversample=False)\n",
    "X_val_np = validation_data['X']\n",
    "y_val_np = validation_data['y']\n",
    "\n"
   ]
  },
  {
   "cell_type": "markdown",
   "metadata": {},
   "source": [
    "## Deep Learning"
   ]
  },
  {
   "cell_type": "markdown",
   "metadata": {},
   "source": [
    "### Convert to Tensors"
   ]
  },
  {
   "cell_type": "code",
   "execution_count": 3,
   "metadata": {},
   "outputs": [],
   "source": [
    "X_train = models.convert_to_tensors(X_train_np).type(torch.float32).to(models.device)\n",
    "y_train = models.convert_to_tensors(y_train_np).type(torch.LongTensor).to(models.device)\n",
    "X_val = models.convert_to_tensors(X_val_np).type(torch.float32).to(models.device)\n",
    "y_val = models.convert_to_tensors(y_val_np).type(torch.LongTensor).to(models.device)"
   ]
  },
  {
   "cell_type": "markdown",
   "metadata": {},
   "source": [
    "### Define Model"
   ]
  },
  {
   "cell_type": "markdown",
   "metadata": {},
   "source": [
    "The models used are based on tutorial:\n",
    "```\n",
    "Bourke , D 2022, PyTorch for Deep Learning & Machine Learning – Full Course, in freeCodeCamp.org (ed.), YouTube, viewed 6 May 2024, <https://www.youtube.com/watch?v=V_xro1bcAuA>.\n",
    "```"
   ]
  },
  {
   "cell_type": "markdown",
   "metadata": {},
   "source": [
    "### Train Model"
   ]
  },
  {
   "cell_type": "code",
   "execution_count": 11,
   "metadata": {},
   "outputs": [
    {
     "name": "stdout",
     "output_type": "stream",
     "text": [
      "                precision    recall  f1-score   support\n",
      "\n",
      "not-depression       0.59      0.66      0.62       263\n",
      "    depression       0.66      0.60      0.63       296\n",
      "\n",
      "      accuracy                           0.63       559\n",
      "     macro avg       0.63      0.63      0.63       559\n",
      "  weighted avg       0.63      0.63      0.63       559\n",
      "\n"
     ]
    },
    {
     "data": {
      "image/png": "[encoded data removed]",
      "text/plain": [
       "<Figure size 1500x800 with 1 Axes>"
      ]
     },
     "metadata": {},
     "output_type": "display_data"
    }
   ],
   "source": [
    "models.begin_plot()\n",
    "\n",
    "hidden_layers = 250\n",
    "epochs = 150\n",
    "learning_rate = 0.0001\n",
    "labels = classes.values()\n",
    "\n",
    "model = models.GenericMutliClassifier(input_features=X_train.shape[1], output_features=8, hidden_units=hidden_layers, report_labels=labels).to(models.device)\n",
    "report = model.train_model(\n",
    "    X_train=X_train,\n",
    "    y_train=y_train,\n",
    "    X_val=X_val,\n",
    "    y_val=y_val,\n",
    "    epochs=epochs,\n",
    "    learning_rate=learning_rate,\n",
    "    should_print=True,\n",
    "    should_plot=True,\n",
    "    plot_label=\"Validation Accuracy\",\n",
    "    analysis_interval=1\n",
    ")\n",
    "print(report)\n",
    "models.finish_plot()\n"
   ]
  },
  {
   "cell_type": "markdown",
   "metadata": {},
   "source": [
    "### Save Model"
   ]
  },
  {
   "cell_type": "code",
   "execution_count": 12,
   "metadata": {},
   "outputs": [],
   "source": [
    "model.save_model(\"depression-expert.pth\")"
   ]
  }
 ],
 "metadata": {
  "kernelspec": {
   "display_name": "Python 3",
   "language": "python",
   "name": "python3"
  },
  "language_info": {
   "codemirror_mode": {
    "name": "ipython",
    "version": 3
   },
   "file_extension": ".py",
   "mimetype": "text/x-python",
   "name": "python",
   "nbconvert_exporter": "python",
   "pygments_lexer": "ipython3",
   "version": "3.12.2"
  }
 },
 "nbformat": 4,
 "nbformat_minor": 2
}
